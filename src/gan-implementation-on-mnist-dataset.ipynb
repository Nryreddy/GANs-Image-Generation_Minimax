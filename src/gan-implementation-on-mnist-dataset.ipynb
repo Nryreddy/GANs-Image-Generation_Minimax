{
 "cells": [
  {
   "cell_type": "markdown",
   "metadata": {},
   "source": [
    "***Applying on MNIST Dataset*****"
   ]
  },
  {
   "cell_type": "code",
   "execution_count": 1,
   "metadata": {},
   "outputs": [
    {
     "name": "stdout",
     "output_type": "stream",
     "text": [
      "\n",
      "PyTorch Version: 2.4.0\n"
     ]
    }
   ],
   "source": [
    "import torch\n",
    "import numpy as np\n",
    "import matplotlib\n",
    "import matplotlib.pyplot as plt\n",
    "import math\n",
    "\n",
    "# Set global seed for reproducibility\n",
    "global_seed = 123\n",
    "np.random.seed(global_seed)\n",
    "torch.manual_seed(global_seed)\n",
    "device = 'cuda' if torch.cuda.is_available() else 'cpu'\n",
    "\n",
    "# Check PyTorch version and if GPU is available\n",
    "print(\"\\nPyTorch Version: \" + torch.__version__)"
   ]
  },
  {
   "cell_type": "code",
   "execution_count": 2,
   "metadata": {},
   "outputs": [
    {
     "name": "stdout",
     "output_type": "stream",
     "text": [
      "Downloading http://fashion-mnist.s3-website.eu-central-1.amazonaws.com/train-images-idx3-ubyte.gz\n",
      "Downloading http://fashion-mnist.s3-website.eu-central-1.amazonaws.com/train-images-idx3-ubyte.gz to ./data/FashionMNIST/raw/train-images-idx3-ubyte.gz\n"
     ]
    },
    {
     "name": "stderr",
     "output_type": "stream",
     "text": [
      "100%|██████████| 26421880/26421880 [00:08<00:00, 3170793.09it/s]\n"
     ]
    },
    {
     "name": "stdout",
     "output_type": "stream",
     "text": [
      "Extracting ./data/FashionMNIST/raw/train-images-idx3-ubyte.gz to ./data/FashionMNIST/raw\n",
      "\n",
      "Downloading http://fashion-mnist.s3-website.eu-central-1.amazonaws.com/train-labels-idx1-ubyte.gz\n",
      "Downloading http://fashion-mnist.s3-website.eu-central-1.amazonaws.com/train-labels-idx1-ubyte.gz to ./data/FashionMNIST/raw/train-labels-idx1-ubyte.gz\n"
     ]
    },
    {
     "name": "stderr",
     "output_type": "stream",
     "text": [
      "100%|██████████| 29515/29515 [00:00<00:00, 104465.26it/s]\n"
     ]
    },
    {
     "name": "stdout",
     "output_type": "stream",
     "text": [
      "Extracting ./data/FashionMNIST/raw/train-labels-idx1-ubyte.gz to ./data/FashionMNIST/raw\n",
      "\n",
      "Downloading http://fashion-mnist.s3-website.eu-central-1.amazonaws.com/t10k-images-idx3-ubyte.gz\n",
      "Downloading http://fashion-mnist.s3-website.eu-central-1.amazonaws.com/t10k-images-idx3-ubyte.gz to ./data/FashionMNIST/raw/t10k-images-idx3-ubyte.gz\n"
     ]
    },
    {
     "name": "stderr",
     "output_type": "stream",
     "text": [
      "100%|██████████| 4422102/4422102 [00:02<00:00, 1638526.81it/s]\n"
     ]
    },
    {
     "name": "stdout",
     "output_type": "stream",
     "text": [
      "Extracting ./data/FashionMNIST/raw/t10k-images-idx3-ubyte.gz to ./data/FashionMNIST/raw\n",
      "\n",
      "Downloading http://fashion-mnist.s3-website.eu-central-1.amazonaws.com/t10k-labels-idx1-ubyte.gz\n",
      "Downloading http://fashion-mnist.s3-website.eu-central-1.amazonaws.com/t10k-labels-idx1-ubyte.gz to ./data/FashionMNIST/raw/t10k-labels-idx1-ubyte.gz\n"
     ]
    },
    {
     "name": "stderr",
     "output_type": "stream",
     "text": [
      "100%|██████████| 5148/5148 [00:00<00:00, 4085577.48it/s]"
     ]
    },
    {
     "name": "stdout",
     "output_type": "stream",
     "text": [
      "Extracting ./data/FashionMNIST/raw/t10k-labels-idx1-ubyte.gz to ./data/FashionMNIST/raw\n",
      "\n"
     ]
    },
    {
     "name": "stderr",
     "output_type": "stream",
     "text": [
      "\n"
     ]
    }
   ],
   "source": [
    "import torchvision.transforms as transforms\n",
    "from torchvision import datasets\n",
    "from torch.utils.data import DataLoader, Subset\n",
    "\n",
    "# Define the transform to normalize the data\n",
    "transform = transforms.Compose([\n",
    "    transforms.ToTensor(),  # Convert the images to PyTorch tensors\n",
    "    transforms.Normalize((0.5,), (0.5,))  # Normalize to [0, 1] range and then to [-1, 1]\n",
    "])\n",
    "\n",
    "# Load the Fashion-MNIST dataset\n",
    "train_dataset = datasets.FashionMNIST(root='./data', train=True, download=True, transform=transform)\n",
    "\n",
    "# Get the training data and labels\n",
    "train_loader = torch.utils.data.DataLoader(train_dataset, batch_size=len(train_dataset), shuffle=False)"
   ]
  },
  {
   "cell_type": "code",
   "execution_count": 6,
   "metadata": {},
   "outputs": [
    {
     "name": "stdout",
     "output_type": "stream",
     "text": [
      "Epoch 1/50: disc-loss = 1.1205, gen-loss = 1.0765\n",
      "Epoch 2/50: disc-loss = 0.8295, gen-loss = 1.9755\n",
      "Epoch 3/50: disc-loss = 0.7026, gen-loss = 2.4249\n",
      "Epoch 4/50: disc-loss = 0.6683, gen-loss = 2.4693\n",
      "Epoch 5/50: disc-loss = 0.6444, gen-loss = 2.6200\n",
      "Epoch 6/50: disc-loss = 0.7147, gen-loss = 2.3415\n",
      "Epoch 7/50: disc-loss = 0.7352, gen-loss = 2.3148\n",
      "Epoch 8/50: disc-loss = 0.7303, gen-loss = 2.2905\n",
      "Epoch 9/50: disc-loss = 0.7365, gen-loss = 2.3315\n",
      "Epoch 10/50: disc-loss = 0.7239, gen-loss = 2.3530\n",
      "Epoch 11/50: disc-loss = 0.7870, gen-loss = 2.1106\n",
      "Epoch 12/50: disc-loss = 0.8244, gen-loss = 2.0030\n",
      "Epoch 13/50: disc-loss = 0.8586, gen-loss = 1.8573\n",
      "Epoch 14/50: disc-loss = 0.8903, gen-loss = 1.7811\n",
      "Epoch 15/50: disc-loss = 0.9363, gen-loss = 1.6490\n",
      "Epoch 16/50: disc-loss = 0.9668, gen-loss = 1.5675\n",
      "Epoch 17/50: disc-loss = 1.0391, gen-loss = 1.4221\n",
      "Epoch 18/50: disc-loss = 1.0590, gen-loss = 1.3464\n",
      "Epoch 19/50: disc-loss = 1.0697, gen-loss = 1.3282\n",
      "Epoch 20/50: disc-loss = 1.0805, gen-loss = 1.2974\n",
      "Epoch 21/50: disc-loss = 1.0772, gen-loss = 1.3109\n",
      "Epoch 22/50: disc-loss = 1.0887, gen-loss = 1.2861\n",
      "Epoch 23/50: disc-loss = 1.0786, gen-loss = 1.3014\n",
      "Epoch 24/50: disc-loss = 1.0881, gen-loss = 1.2815\n",
      "Epoch 25/50: disc-loss = 1.0861, gen-loss = 1.2738\n",
      "Epoch 26/50: disc-loss = 1.0748, gen-loss = 1.2942\n",
      "Epoch 27/50: disc-loss = 1.0815, gen-loss = 1.2933\n",
      "Epoch 28/50: disc-loss = 1.0782, gen-loss = 1.2897\n",
      "Epoch 29/50: disc-loss = 1.0804, gen-loss = 1.2845\n",
      "Epoch 30/50: disc-loss = 1.0649, gen-loss = 1.3188\n",
      "Epoch 31/50: disc-loss = 1.0739, gen-loss = 1.3037\n",
      "Epoch 32/50: disc-loss = 1.0714, gen-loss = 1.3090\n",
      "Epoch 33/50: disc-loss = 1.0711, gen-loss = 1.3026\n",
      "Epoch 34/50: disc-loss = 1.0683, gen-loss = 1.3121\n",
      "Epoch 35/50: disc-loss = 1.0814, gen-loss = 1.2844\n",
      "Epoch 36/50: disc-loss = 1.0711, gen-loss = 1.2986\n",
      "Epoch 37/50: disc-loss = 1.0781, gen-loss = 1.2887\n",
      "Epoch 38/50: disc-loss = 1.0769, gen-loss = 1.2852\n",
      "Epoch 39/50: disc-loss = 1.0750, gen-loss = 1.2875\n",
      "Epoch 40/50: disc-loss = 1.0819, gen-loss = 1.2804\n",
      "Epoch 41/50: disc-loss = 1.0756, gen-loss = 1.2868\n",
      "Epoch 42/50: disc-loss = 1.0679, gen-loss = 1.2959\n",
      "Epoch 43/50: disc-loss = 1.0690, gen-loss = 1.2935\n",
      "Epoch 44/50: disc-loss = 1.0685, gen-loss = 1.2875\n",
      "Epoch 45/50: disc-loss = 1.0695, gen-loss = 1.2933\n",
      "Epoch 46/50: disc-loss = 1.0656, gen-loss = 1.2950\n",
      "Epoch 47/50: disc-loss = 1.0577, gen-loss = 1.3117\n",
      "Epoch 48/50: disc-loss = 1.0617, gen-loss = 1.3033\n",
      "Epoch 49/50: disc-loss = 1.0603, gen-loss = 1.3099\n",
      "Epoch 50/50: disc-loss = 1.0552, gen-loss = 1.3183\n"
     ]
    },
    {
     "data": {
      "image/png": "[encoded data removed]",
      "text/plain": [
       "<Figure size 1200x600 with 2 Axes>"
      ]
     },
     "metadata": {},
     "output_type": "display_data"
    }
   ],
   "source": [
    "import torch\n",
    "import torch.nn as nn\n",
    "import torch.optim as optim\n",
    "from torchvision import datasets, transforms\n",
    "from torch.utils.data import DataLoader\n",
    "import matplotlib.pyplot as plt\n",
    "import numpy as np\n",
    "\n",
    "# Hyperparameters\n",
    "batch_size = 64\n",
    "lr = 0.0001  # Reduced learning rate\n",
    "epochs = 50\n",
    "latent_dim = 64  # Reduced latent dimension\n",
    "\n",
    "# Load MNIST dataset\n",
    "transform = transforms.Compose([transforms.ToTensor(), transforms.Normalize((0.5,), (0.5,))])\n",
    "mnist_data = datasets.MNIST(root='./data', train=True, download=True, transform=transform)\n",
    "data_loader = DataLoader(mnist_data, batch_size=batch_size, shuffle=True)\n",
    "\n",
    "# Define the Generator\n",
    "class Generator(nn.Module):\n",
    "    def __init__(self):\n",
    "        super(Generator, self).__init__()\n",
    "        self.model = nn.Sequential(\n",
    "            nn.Linear(latent_dim, 256),\n",
    "            nn.LeakyReLU(0.2),\n",
    "            nn.Linear(256, 512),\n",
    "            nn.LeakyReLU(0.2),\n",
    "            nn.Linear(512, 1024),\n",
    "            nn.LeakyReLU(0.2),\n",
    "            nn.Linear(1024, 784),\n",
    "            nn.Tanh()\n",
    "        )\n",
    "\n",
    "    def forward(self, z):\n",
    "        img = self.model(z)\n",
    "        return img.view(-1, 1, 28, 28)\n",
    "\n",
    "# Define the Discriminator\n",
    "class Discriminator(nn.Module):\n",
    "    def __init__(self):\n",
    "        super(Discriminator, self).__init__()\n",
    "        self.model = nn.Sequential(\n",
    "            nn.Linear(784, 512),\n",
    "            nn.LeakyReLU(0.2),\n",
    "            nn.Linear(512, 256),\n",
    "            nn.LeakyReLU(0.2),\n",
    "            nn.Linear(256, 1),\n",
    "            nn.Sigmoid()\n",
    "        )\n",
    "\n",
    "    def forward(self, img):\n",
    "        img_flat = img.view(img.size(0), -1)\n",
    "        validity = self.model(img_flat)\n",
    "        return validity\n",
    "\n",
    "# Initialize models and optimizers\n",
    "generator = Generator()\n",
    "discriminator = Discriminator()\n",
    "adversarial_loss = nn.BCELoss()\n",
    "optimizer_G = optim.Adam(generator.parameters(), lr=lr, betas=(0.5, 0.999))\n",
    "optimizer_D = optim.Adam(discriminator.parameters(), lr=lr, betas=(0.5, 0.999))\n",
    "\n",
    "# Track losses\n",
    "history = {'disc-loss': [], 'gen-loss': []}\n",
    "\n",
    "# Training\n",
    "for epoch in range(epochs):\n",
    "    dis_losses = []\n",
    "    gen_losses = []\n",
    "    for i, (imgs, _) in enumerate(data_loader):\n",
    "        real_imgs = imgs\n",
    "        batch_size = real_imgs.size(0)\n",
    "\n",
    "        # Prepare labels with label smoothing\n",
    "        real_labels = torch.full((batch_size, 1), 0.9)  # Smooth real labels to 0.9 instead of 1\n",
    "        fake_labels = torch.zeros(batch_size, 1)\n",
    "\n",
    "        # Train Discriminator\n",
    "        optimizer_D.zero_grad()\n",
    "        z = torch.randn(batch_size, latent_dim)\n",
    "        fake_imgs = generator(z)\n",
    "        real_loss = adversarial_loss(discriminator(real_imgs), real_labels)\n",
    "        fake_loss = adversarial_loss(discriminator(fake_imgs.detach()), fake_labels)\n",
    "        d_loss = real_loss + fake_loss\n",
    "        d_loss.backward()\n",
    "        optimizer_D.step()\n",
    "\n",
    "        # Train Generator\n",
    "        optimizer_G.zero_grad()\n",
    "        z = torch.randn(batch_size, latent_dim)\n",
    "        fake_imgs = generator(z)\n",
    "        gen_loss = adversarial_loss(discriminator(fake_imgs), real_labels)  # Label as real to \"fool\" discriminator\n",
    "        gen_loss.backward()\n",
    "        optimizer_G.step()\n",
    "\n",
    "        # Save losses\n",
    "        dis_losses.append(d_loss.item())\n",
    "        gen_losses.append(gen_loss.item())\n",
    "\n",
    "    print(f\"Epoch {epoch + 1}/{epochs}: disc-loss = {np.mean(dis_losses):.4f}, gen-loss = {np.mean(gen_losses):.4f}\")\n",
    "    history['disc-loss'].append(np.mean(dis_losses))\n",
    "    history['gen-loss'].append(np.mean(gen_losses))\n",
    "\n",
    "# Plot losses\n",
    "plt.figure(figsize=(12, 6))\n",
    "plt.subplot(1, 2, 1)\n",
    "plt.plot(history['disc-loss'], label=\"Discriminator Loss\", color='blue')\n",
    "plt.xlabel('Epoch')\n",
    "plt.ylabel('Loss')\n",
    "plt.title('Discriminator Loss')\n",
    "plt.legend()\n",
    "\n",
    "plt.subplot(1, 2, 2)\n",
    "plt.plot(history['gen-loss'], label=\"Generator Loss\", color='red')\n",
    "plt.xlabel('Epoch')\n",
    "plt.ylabel('Loss')\n",
    "plt.title('Generator Loss')\n",
    "plt.legend()\n",
    "plt.show()\n"
   ]
  }
 ],
 "metadata": {
  "kaggle": {
   "accelerator": "gpu",
   "dataSources": [],
   "dockerImageVersionId": 30787,
   "isGpuEnabled": true,
   "isInternetEnabled": true,
   "language": "python",
   "sourceType": "notebook"
  },
  "kernelspec": {
   "display_name": "Python 3 (ipykernel)",
   "language": "python",
   "name": "python3"
  },
  "language_info": {
   "codemirror_mode": {
    "name": "ipython",
    "version": 3
   },
   "file_extension": ".py",
   "mimetype": "text/x-python",
   "name": "python",
   "nbconvert_exporter": "python",
   "pygments_lexer": "ipython3",
   "version": "3.12.4"
  },
  "widgets": {
   "application/vnd.jupyter.widget-state+json": {
    "state": {},
    "version_major": 2,
    "version_minor": 0
   }
  }
 },
 "nbformat": 4,
 "nbformat_minor": 4
}
