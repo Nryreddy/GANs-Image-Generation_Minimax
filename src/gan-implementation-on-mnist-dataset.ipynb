{
 "cells": [
  {
   "cell_type": "markdown",
   "metadata": {},
   "source": [
    "***Applying on MNIST Dataset*****"
   ]
  },
  {
   "cell_type": "code",
   "execution_count": 1,
   "metadata": {},
   "outputs": [
    {
     "name": "stdout",
     "output_type": "stream",
     "text": [
      "\n",
      "PyTorch Version: 2.4.0\n"
     ]
    }
   ],
   "source": [
    "import torch\n",
    "import numpy as np\n",
    "import matplotlib\n",
    "import matplotlib.pyplot as plt\n",
    "import math\n",
    "\n",
    "# Set global seed for reproducibility\n",
    "global_seed = 123\n",
    "np.random.seed(global_seed)\n",
    "torch.manual_seed(global_seed)\n",
    "device = 'cuda' if torch.cuda.is_available() else 'cpu'\n",
    "\n",
    "# Check PyTorch version and if GPU is available\n",
    "print(\"\\nPyTorch Version: \" + torch.__version__)"
   ]
  },
  {
   "cell_type": "code",
   "execution_count": 2,
   "metadata": {},
   "outputs": [
    {
     "name": "stdout",
     "output_type": "stream",
     "text": [
      "Downloading http://fashion-mnist.s3-website.eu-central-1.amazonaws.com/train-images-idx3-ubyte.gz\n",
      "Downloading http://fashion-mnist.s3-website.eu-central-1.amazonaws.com/train-images-idx3-ubyte.gz to ./data/FashionMNIST/raw/train-images-idx3-ubyte.gz\n"
     ]
    },
    {
     "name": "stderr",
     "output_type": "stream",
     "text": [
      "100%|██████████| 26421880/26421880 [00:08<00:00, 3170793.09it/s]\n"
     ]
    },
    {
     "name": "stdout",
     "output_type": "stream",
     "text": [
      "Extracting ./data/FashionMNIST/raw/train-images-idx3-ubyte.gz to ./data/FashionMNIST/raw\n",
      "\n",
      "Downloading http://fashion-mnist.s3-website.eu-central-1.amazonaws.com/train-labels-idx1-ubyte.gz\n",
      "Downloading http://fashion-mnist.s3-website.eu-central-1.amazonaws.com/train-labels-idx1-ubyte.gz to ./data/FashionMNIST/raw/train-labels-idx1-ubyte.gz\n"
     ]
    },
    {
     "name": "stderr",
     "output_type": "stream",
     "text": [
      "100%|██████████| 29515/29515 [00:00<00:00, 104465.26it/s]\n"
     ]
    },
    {
     "name": "stdout",
     "output_type": "stream",
     "text": [
      "Extracting ./data/FashionMNIST/raw/train-labels-idx1-ubyte.gz to ./data/FashionMNIST/raw\n",
      "\n",
      "Downloading http://fashion-mnist.s3-website.eu-central-1.amazonaws.com/t10k-images-idx3-ubyte.gz\n",
      "Downloading http://fashion-mnist.s3-website.eu-central-1.amazonaws.com/t10k-images-idx3-ubyte.gz to ./data/FashionMNIST/raw/t10k-images-idx3-ubyte.gz\n"
     ]
    },
    {
     "name": "stderr",
     "output_type": "stream",
     "text": [
      "100%|██████████| 4422102/4422102 [00:02<00:00, 1638526.81it/s]\n"
     ]
    },
    {
     "name": "stdout",
     "output_type": "stream",
     "text": [
      "Extracting ./data/FashionMNIST/raw/t10k-images-idx3-ubyte.gz to ./data/FashionMNIST/raw\n",
      "\n",
      "Downloading http://fashion-mnist.s3-website.eu-central-1.amazonaws.com/t10k-labels-idx1-ubyte.gz\n",
      "Downloading http://fashion-mnist.s3-website.eu-central-1.amazonaws.com/t10k-labels-idx1-ubyte.gz to ./data/FashionMNIST/raw/t10k-labels-idx1-ubyte.gz\n"
     ]
    },
    {
     "name": "stderr",
     "output_type": "stream",
     "text": [
      "100%|██████████| 5148/5148 [00:00<00:00, 4085577.48it/s]"
     ]
    },
    {
     "name": "stdout",
     "output_type": "stream",
     "text": [
      "Extracting ./data/FashionMNIST/raw/t10k-labels-idx1-ubyte.gz to ./data/FashionMNIST/raw\n",
      "\n"
     ]
    },
    {
     "name": "stderr",
     "output_type": "stream",
     "text": [
      "\n"
     ]
    }
   ],
   "source": [
    "import torchvision.transforms as transforms\n",
    "from torchvision import datasets\n",
    "from torch.utils.data import DataLoader, Subset\n",
    "\n",
    "# Define the transform to normalize the data\n",
    "transform = transforms.Compose([\n",
    "    transforms.ToTensor(),  # Convert the images to PyTorch tensors\n",
    "    transforms.Normalize((0.5,), (0.5,))  # Normalize to [0, 1] range and then to [-1, 1]\n",
    "])\n",
    "\n",
    "# Load the Fashion-MNIST dataset\n",
    "train_dataset = datasets.FashionMNIST(root='./data', train=True, download=True, transform=transform)\n",
    "\n",
    "# Get the training data and labels\n",
    "train_loader = torch.utils.data.DataLoader(train_dataset, batch_size=len(train_dataset), shuffle=False)"
   ]
  },
  {
   "cell_type": "code",
   "execution_count": 3,
   "metadata": {},
   "outputs": [
    {
     "name": "stdout",
     "output_type": "stream",
     "text": [
      "Downloading http://yann.lecun.com/exdb/mnist/train-images-idx3-ubyte.gz\n",
      "Failed to download (trying next):\n",
      "<urlopen error [SSL: CERTIFICATE_VERIFY_FAILED] certificate verify failed: certificate has expired (_ssl.c:1000)>\n",
      "\n",
      "Downloading https://ossci-datasets.s3.amazonaws.com/mnist/train-images-idx3-ubyte.gz\n",
      "Downloading https://ossci-datasets.s3.amazonaws.com/mnist/train-images-idx3-ubyte.gz to ./data/MNIST/raw/train-images-idx3-ubyte.gz\n"
     ]
    },
    {
     "name": "stderr",
     "output_type": "stream",
     "text": [
      "100%|██████████| 9912422/9912422 [00:05<00:00, 1930567.23it/s]\n"
     ]
    },
    {
     "name": "stdout",
     "output_type": "stream",
     "text": [
      "Extracting ./data/MNIST/raw/train-images-idx3-ubyte.gz to ./data/MNIST/raw\n",
      "\n",
      "Downloading http://yann.lecun.com/exdb/mnist/train-labels-idx1-ubyte.gz\n",
      "Failed to download (trying next):\n",
      "<urlopen error [SSL: CERTIFICATE_VERIFY_FAILED] certificate verify failed: certificate has expired (_ssl.c:1000)>\n",
      "\n",
      "Downloading https://ossci-datasets.s3.amazonaws.com/mnist/train-labels-idx1-ubyte.gz\n",
      "Downloading https://ossci-datasets.s3.amazonaws.com/mnist/train-labels-idx1-ubyte.gz to ./data/MNIST/raw/train-labels-idx1-ubyte.gz\n"
     ]
    },
    {
     "name": "stderr",
     "output_type": "stream",
     "text": [
      "100%|██████████| 28881/28881 [00:00<00:00, 127225.74it/s]\n"
     ]
    },
    {
     "name": "stdout",
     "output_type": "stream",
     "text": [
      "Extracting ./data/MNIST/raw/train-labels-idx1-ubyte.gz to ./data/MNIST/raw\n",
      "\n",
      "Downloading http://yann.lecun.com/exdb/mnist/t10k-images-idx3-ubyte.gz\n",
      "Failed to download (trying next):\n",
      "<urlopen error [SSL: CERTIFICATE_VERIFY_FAILED] certificate verify failed: certificate has expired (_ssl.c:1000)>\n",
      "\n",
      "Downloading https://ossci-datasets.s3.amazonaws.com/mnist/t10k-images-idx3-ubyte.gz\n",
      "Downloading https://ossci-datasets.s3.amazonaws.com/mnist/t10k-images-idx3-ubyte.gz to ./data/MNIST/raw/t10k-images-idx3-ubyte.gz\n"
     ]
    },
    {
     "name": "stderr",
     "output_type": "stream",
     "text": [
      "100%|██████████| 1648877/1648877 [00:06<00:00, 238386.77it/s]\n"
     ]
    },
    {
     "name": "stdout",
     "output_type": "stream",
     "text": [
      "Extracting ./data/MNIST/raw/t10k-images-idx3-ubyte.gz to ./data/MNIST/raw\n",
      "\n",
      "Downloading http://yann.lecun.com/exdb/mnist/t10k-labels-idx1-ubyte.gz\n",
      "Failed to download (trying next):\n",
      "<urlopen error [SSL: CERTIFICATE_VERIFY_FAILED] certificate verify failed: certificate has expired (_ssl.c:1000)>\n",
      "\n",
      "Downloading https://ossci-datasets.s3.amazonaws.com/mnist/t10k-labels-idx1-ubyte.gz\n",
      "Downloading https://ossci-datasets.s3.amazonaws.com/mnist/t10k-labels-idx1-ubyte.gz to ./data/MNIST/raw/t10k-labels-idx1-ubyte.gz\n"
     ]
    },
    {
     "name": "stderr",
     "output_type": "stream",
     "text": [
      "100%|██████████| 4542/4542 [00:00<00:00, 2926798.09it/s]\n"
     ]
    },
    {
     "name": "stdout",
     "output_type": "stream",
     "text": [
      "Extracting ./data/MNIST/raw/t10k-labels-idx1-ubyte.gz to ./data/MNIST/raw\n",
      "\n",
      "Epoch 1/50: disc-loss = 0.1932849107896909, gen-loss = 5.870865103892485\n",
      "Epoch 2/50: disc-loss = 0.0019664883357686145, gen-loss = 8.65650543645223\n",
      "Epoch 3/50: disc-loss = 0.0005283922930531844, gen-loss = 11.158947835540772\n",
      "Epoch 4/50: disc-loss = 3.6468028947941396e-06, gen-loss = 13.558199295043945\n",
      "Epoch 5/50: disc-loss = 0.0003282459950164675, gen-loss = 26.610457654571533\n",
      "Epoch 6/50: disc-loss = 2.559443354332321e-06, gen-loss = 96.23497779947917\n",
      "Epoch 7/50: disc-loss = 1.2750809144629707e-07, gen-loss = 94.78765879313151\n",
      "Epoch 8/50: disc-loss = 8.063229072969117e-08, gen-loss = 93.6870765218099\n",
      "Epoch 9/50: disc-loss = 4.2385096984531855e-08, gen-loss = 92.47317367757161\n",
      "Epoch 10/50: disc-loss = 1.9629969711350744e-08, gen-loss = 91.60091633300782\n",
      "Epoch 11/50: disc-loss = 8.048638986698127e-09, gen-loss = 90.57843068033854\n",
      "Epoch 12/50: disc-loss = 3.222630502601002e-09, gen-loss = 89.42736729736328\n",
      "Epoch 13/50: disc-loss = 1.3132899312040536e-09, gen-loss = 88.62990987955729\n",
      "Epoch 14/50: disc-loss = 5.185606089715596e-10, gen-loss = 87.67549309082031\n",
      "Epoch 15/50: disc-loss = 2.2053723848595534e-10, gen-loss = 86.63420315348307\n",
      "Epoch 16/50: disc-loss = 9.735426734399273e-11, gen-loss = 85.74950846354167\n",
      "Epoch 17/50: disc-loss = 4.172325631657259e-11, gen-loss = 85.12210012207031\n",
      "Epoch 18/50: disc-loss = 2.3841860752327193e-11, gen-loss = 84.58998316650391\n",
      "Epoch 19/50: disc-loss = 9.934108646802997e-12, gen-loss = 84.16757384847006\n",
      "Epoch 20/50: disc-loss = 5.960465188081798e-12, gen-loss = 83.95829618733724\n",
      "Epoch 21/50: disc-loss = 1.9868217293605993e-12, gen-loss = 83.85167370198567\n",
      "Epoch 22/50: disc-loss = 1.9868217293605993e-12, gen-loss = 83.79930688476563\n",
      "Epoch 23/50: disc-loss = 1.9868217293605993e-12, gen-loss = 83.79949365234376\n",
      "Epoch 24/50: disc-loss = 1.9868217293605993e-12, gen-loss = 83.74836538492839\n",
      "Epoch 25/50: disc-loss = 1.7390436653830733e-35, gen-loss = 83.76816654459635\n",
      "Epoch 26/50: disc-loss = 3.062540509264717e-34, gen-loss = 83.77936907552083\n",
      "Epoch 27/50: disc-loss = 1.7163352625574418e-35, gen-loss = 83.73657399495443\n",
      "Epoch 28/50: disc-loss = 1.72722718287061e-35, gen-loss = 83.77388128662109\n",
      "Epoch 29/50: disc-loss = 1.7353507559590378e-35, gen-loss = 83.7732288330078\n",
      "Epoch 30/50: disc-loss = 1.7367841861615754e-35, gen-loss = 83.76131684163411\n",
      "Epoch 31/50: disc-loss = 1.7207408005849248e-35, gen-loss = 83.78010943603516\n",
      "Epoch 32/50: disc-loss = 1.7372050833550595e-35, gen-loss = 83.73317360839843\n",
      "Epoch 33/50: disc-loss = 1.726848259779411e-35, gen-loss = 83.79988457845052\n",
      "Epoch 34/50: disc-loss = 1.725972205969277e-35, gen-loss = 83.74333959554036\n",
      "Epoch 35/50: disc-loss = 1.736376942878336e-35, gen-loss = 83.72046474202475\n",
      "Epoch 36/50: disc-loss = 1.733550852153014e-35, gen-loss = 83.72738974609375\n",
      "Epoch 37/50: disc-loss = 1.7352104331193535e-35, gen-loss = 83.77410183919271\n",
      "Epoch 38/50: disc-loss = 1.721046246803546e-35, gen-loss = 83.7881962931315\n",
      "Epoch 39/50: disc-loss = 1.725090145314134e-35, gen-loss = 83.75741487223307\n",
      "Epoch 40/50: disc-loss = 1.7230897975372828e-35, gen-loss = 83.8070908569336\n",
      "Epoch 41/50: disc-loss = 1.7046443401755963e-35, gen-loss = 83.82742566731771\n",
      "Epoch 42/50: disc-loss = 1.7266362456170484e-35, gen-loss = 83.78093704427083\n",
      "Epoch 43/50: disc-loss = 1.710121363535697e-35, gen-loss = 83.77415701497395\n",
      "Epoch 44/50: disc-loss = 1.7323338875706623e-35, gen-loss = 83.785155859375\n",
      "Epoch 45/50: disc-loss = 1.7305080365061567e-35, gen-loss = 83.76502132568359\n",
      "Epoch 46/50: disc-loss = 1.7757252999059367e-35, gen-loss = 83.79596217041015\n",
      "Epoch 47/50: disc-loss = 1.7234230334544616e-35, gen-loss = 83.77873506266276\n",
      "Epoch 48/50: disc-loss = 8.71381527562364e-34, gen-loss = 83.73357693277995\n",
      "Epoch 49/50: disc-loss = 1.7082154103945974e-35, gen-loss = 83.80730489095052\n",
      "Epoch 50/50: disc-loss = 1.731833750655025e-35, gen-loss = 83.74133748372395\n"
     ]
    }
   ],
   "source": [
    "import torch\n",
    "import torch.nn as nn\n",
    "import torch.optim as optim\n",
    "from torchvision import datasets, transforms\n",
    "from torch.utils.data import DataLoader\n",
    "import matplotlib.pyplot as plt\n",
    "import numpy as np\n",
    "\n",
    "# Hyperparameters\n",
    "batch_size = 32\n",
    "lr = 0.0002\n",
    "epochs = 50\n",
    "latent_dim = 30\n",
    "\n",
    "# Load MNIST dataset\n",
    "transform = transforms.Compose([transforms.ToTensor(), transforms.Normalize((0.5,), (0.5,))])\n",
    "mnist_data = datasets.MNIST(root='./data', train=True, download=True, transform=transform)\n",
    "data_loader = DataLoader(mnist_data, batch_size=batch_size, shuffle=True)\n",
    "\n",
    "# Define the Generator\n",
    "class Generator(nn.Module):\n",
    "    def __init__(self):\n",
    "        super(Generator, self).__init__()\n",
    "        self.model = nn.Sequential(\n",
    "            nn.Linear(latent_dim, 256),\n",
    "            nn.LeakyReLU(0.2),\n",
    "            nn.Linear(256, 512),\n",
    "            nn.LeakyReLU(0.2),\n",
    "            nn.Linear(512, 1024),\n",
    "            nn.LeakyReLU(0.2),\n",
    "            nn.Linear(1024, 784),\n",
    "            nn.Tanh()\n",
    "        )\n",
    "\n",
    "    def forward(self, z):\n",
    "        img = self.model(z)\n",
    "        return img.view(-1, 1, 28, 28)\n",
    "\n",
    "# Define the Discriminator\n",
    "class Discriminator(nn.Module):\n",
    "    def __init__(self):\n",
    "        super(Discriminator, self).__init__()\n",
    "        self.model = nn.Sequential(\n",
    "            nn.Linear(784, 512),\n",
    "            nn.LeakyReLU(0.2),\n",
    "            nn.Linear(512, 256),\n",
    "            nn.LeakyReLU(0.2),\n",
    "            nn.Linear(256, 1),\n",
    "            nn.Sigmoid()\n",
    "        )\n",
    "\n",
    "    def forward(self, img):\n",
    "        img_flat = img.view(img.size(0), -1)\n",
    "        validity = self.model(img_flat)\n",
    "        return validity\n",
    "\n",
    "# Initialize models and optimizers\n",
    "generator = Generator()\n",
    "discriminator = Discriminator()\n",
    "adversarial_loss = nn.BCELoss()\n",
    "optimizer_G = optim.Adam(generator.parameters(), lr=lr)\n",
    "optimizer_D = optim.Adam(discriminator.parameters(), lr=lr)\n",
    "\n",
    "\n",
    "\n",
    "# Training\n",
    "history = {'disc-loss': [], 'gen-loss': []}  # Track losses\n",
    "for epoch in range(epochs):\n",
    "    dis_losses = []  # List to store discriminator losses\n",
    "    gen_losses = []  # List to store generator losses\n",
    "    for i, (imgs, _) in enumerate(data_loader):\n",
    "        \n",
    "        # Prepare real and fake labels\n",
    "        real_labels = torch.ones(imgs.size(0), 1)\n",
    "        fake_labels = torch.zeros(imgs.size(0), 1)\n",
    "\n",
    "        # Train Discriminator\n",
    "        optimizer_D.zero_grad()\n",
    "        real_imgs = imgs\n",
    "        z = torch.randn(imgs.size(0), latent_dim)\n",
    "        fake_imgs = generator(z)\n",
    "        real_loss = adversarial_loss(discriminator(real_imgs), real_labels)\n",
    "        fake_loss = adversarial_loss(discriminator(fake_imgs.detach()), fake_labels)\n",
    "        d_loss = real_loss + fake_loss\n",
    "        d_loss.backward()\n",
    "        optimizer_D.step()\n",
    "\n",
    "        # Train Generator\n",
    "        optimizer_G.zero_grad()\n",
    "        gen_loss = adversarial_loss(discriminator(fake_imgs), real_labels)\n",
    "        gen_loss.backward()\n",
    "        optimizer_G.step()\n",
    "\n",
    "        # Save losses\n",
    "        dis_losses.append(d_loss.item())\n",
    "        gen_losses.append(gen_loss.item())\n",
    "\n",
    "    #print(f\"Epoch {epoch+1}/{epochs} | D Loss: {d_loss.item():.4f} | G Loss: {gen_loss.item():.4f}\")\n",
    "    print(f\"Epoch {epoch + 1}/{epochs}: disc-loss = {np.mean(dis_losses)}, gen-loss = {np.mean(gen_losses)}\")\n",
    "    history['disc-loss'].append(np.mean(dis_losses))  # Record average loss\n",
    "    history['gen-loss'].append(np.mean(gen_losses))"
   ]
  },
  {
   "cell_type": "code",
   "execution_count": 5,
   "metadata": {},
   "outputs": [
    {
     "data": {
      "image/png": "[encoded data removed]",
      "text/plain": [
       "<Figure size 640x480 with 1 Axes>"
      ]
     },
     "metadata": {},
     "output_type": "display_data"
    },
    {
     "data": {
      "image/png": "[encoded data removed]",
      "text/plain": [
       "<Figure size 640x480 with 1 Axes>"
      ]
     },
     "metadata": {},
     "output_type": "display_data"
    }
   ],
   "source": [
    "\n",
    "# Plot Discriminator loss\n",
    "plt.subplot(1, 2, 2)\n",
    "plt.plot(history['disc-loss'], \"--^\", label=\"D Loss\", color='blue')\n",
    "plt.title(\"Discriminator Loss During Training\")\n",
    "plt.xlabel(\"epochs\")\n",
    "plt.ylabel(\"Loss\")\n",
    "plt.legend()\n",
    "plt.tight_layout()\n",
    "plt.show()\n",
    "\n",
    "# Plot Generator loss\n",
    "plt.subplot(1, 2, 2)\n",
    "plt.plot(history['gen-loss'], \"--^\", label=\"G Loss\", color='red')\n",
    "plt.title(\"Generator Loss During Training\")\n",
    "plt.xlabel(\"epochs\")\n",
    "plt.ylabel(\"Loss\")\n",
    "plt.tight_layout()\n",
    "plt.legend()\n",
    "\n",
    "\n",
    "#plt.plot(history['gen-loss'], \"--^\")\n",
    "plt.show()\n"
   ]
  },
  {
   "cell_type": "code",
   "execution_count": 6,
   "metadata": {},
   "outputs": [
    {
     "name": "stdout",
     "output_type": "stream",
     "text": [
      "Epoch 1/50: disc-loss = 1.1205, gen-loss = 1.0765\n",
      "Epoch 2/50: disc-loss = 0.8295, gen-loss = 1.9755\n",
      "Epoch 3/50: disc-loss = 0.7026, gen-loss = 2.4249\n",
      "Epoch 4/50: disc-loss = 0.6683, gen-loss = 2.4693\n",
      "Epoch 5/50: disc-loss = 0.6444, gen-loss = 2.6200\n",
      "Epoch 6/50: disc-loss = 0.7147, gen-loss = 2.3415\n",
      "Epoch 7/50: disc-loss = 0.7352, gen-loss = 2.3148\n",
      "Epoch 8/50: disc-loss = 0.7303, gen-loss = 2.2905\n",
      "Epoch 9/50: disc-loss = 0.7365, gen-loss = 2.3315\n",
      "Epoch 10/50: disc-loss = 0.7239, gen-loss = 2.3530\n",
      "Epoch 11/50: disc-loss = 0.7870, gen-loss = 2.1106\n",
      "Epoch 12/50: disc-loss = 0.8244, gen-loss = 2.0030\n",
      "Epoch 13/50: disc-loss = 0.8586, gen-loss = 1.8573\n",
      "Epoch 14/50: disc-loss = 0.8903, gen-loss = 1.7811\n",
      "Epoch 15/50: disc-loss = 0.9363, gen-loss = 1.6490\n",
      "Epoch 16/50: disc-loss = 0.9668, gen-loss = 1.5675\n",
      "Epoch 17/50: disc-loss = 1.0391, gen-loss = 1.4221\n",
      "Epoch 18/50: disc-loss = 1.0590, gen-loss = 1.3464\n",
      "Epoch 19/50: disc-loss = 1.0697, gen-loss = 1.3282\n",
      "Epoch 20/50: disc-loss = 1.0805, gen-loss = 1.2974\n",
      "Epoch 21/50: disc-loss = 1.0772, gen-loss = 1.3109\n",
      "Epoch 22/50: disc-loss = 1.0887, gen-loss = 1.2861\n",
      "Epoch 23/50: disc-loss = 1.0786, gen-loss = 1.3014\n",
      "Epoch 24/50: disc-loss = 1.0881, gen-loss = 1.2815\n",
      "Epoch 25/50: disc-loss = 1.0861, gen-loss = 1.2738\n",
      "Epoch 26/50: disc-loss = 1.0748, gen-loss = 1.2942\n",
      "Epoch 27/50: disc-loss = 1.0815, gen-loss = 1.2933\n",
      "Epoch 28/50: disc-loss = 1.0782, gen-loss = 1.2897\n",
      "Epoch 29/50: disc-loss = 1.0804, gen-loss = 1.2845\n",
      "Epoch 30/50: disc-loss = 1.0649, gen-loss = 1.3188\n",
      "Epoch 31/50: disc-loss = 1.0739, gen-loss = 1.3037\n",
      "Epoch 32/50: disc-loss = 1.0714, gen-loss = 1.3090\n",
      "Epoch 33/50: disc-loss = 1.0711, gen-loss = 1.3026\n",
      "Epoch 34/50: disc-loss = 1.0683, gen-loss = 1.3121\n",
      "Epoch 35/50: disc-loss = 1.0814, gen-loss = 1.2844\n",
      "Epoch 36/50: disc-loss = 1.0711, gen-loss = 1.2986\n",
      "Epoch 37/50: disc-loss = 1.0781, gen-loss = 1.2887\n",
      "Epoch 38/50: disc-loss = 1.0769, gen-loss = 1.2852\n",
      "Epoch 39/50: disc-loss = 1.0750, gen-loss = 1.2875\n",
      "Epoch 40/50: disc-loss = 1.0819, gen-loss = 1.2804\n",
      "Epoch 41/50: disc-loss = 1.0756, gen-loss = 1.2868\n",
      "Epoch 42/50: disc-loss = 1.0679, gen-loss = 1.2959\n",
      "Epoch 43/50: disc-loss = 1.0690, gen-loss = 1.2935\n",
      "Epoch 44/50: disc-loss = 1.0685, gen-loss = 1.2875\n",
      "Epoch 45/50: disc-loss = 1.0695, gen-loss = 1.2933\n",
      "Epoch 46/50: disc-loss = 1.0656, gen-loss = 1.2950\n",
      "Epoch 47/50: disc-loss = 1.0577, gen-loss = 1.3117\n",
      "Epoch 48/50: disc-loss = 1.0617, gen-loss = 1.3033\n",
      "Epoch 49/50: disc-loss = 1.0603, gen-loss = 1.3099\n",
      "Epoch 50/50: disc-loss = 1.0552, gen-loss = 1.3183\n"
     ]
    },
    {
     "data": {
      "image/png": "[encoded data removed]",
      "text/plain": [
       "<Figure size 1200x600 with 2 Axes>"
      ]
     },
     "metadata": {},
     "output_type": "display_data"
    }
   ],
   "source": [
    "import torch\n",
    "import torch.nn as nn\n",
    "import torch.optim as optim\n",
    "from torchvision import datasets, transforms\n",
    "from torch.utils.data import DataLoader\n",
    "import matplotlib.pyplot as plt\n",
    "import numpy as np\n",
    "\n",
    "# Hyperparameters\n",
    "batch_size = 64\n",
    "lr = 0.0001  # Reduced learning rate\n",
    "epochs = 50\n",
    "latent_dim = 64  # Reduced latent dimension\n",
    "\n",
    "# Load MNIST dataset\n",
    "transform = transforms.Compose([transforms.ToTensor(), transforms.Normalize((0.5,), (0.5,))])\n",
    "mnist_data = datasets.MNIST(root='./data', train=True, download=True, transform=transform)\n",
    "data_loader = DataLoader(mnist_data, batch_size=batch_size, shuffle=True)\n",
    "\n",
    "# Define the Generator\n",
    "class Generator(nn.Module):\n",
    "    def __init__(self):\n",
    "        super(Generator, self).__init__()\n",
    "        self.model = nn.Sequential(\n",
    "            nn.Linear(latent_dim, 256),\n",
    "            nn.LeakyReLU(0.2),\n",
    "            nn.Linear(256, 512),\n",
    "            nn.LeakyReLU(0.2),\n",
    "            nn.Linear(512, 1024),\n",
    "            nn.LeakyReLU(0.2),\n",
    "            nn.Linear(1024, 784),\n",
    "            nn.Tanh()\n",
    "        )\n",
    "\n",
    "    def forward(self, z):\n",
    "        img = self.model(z)\n",
    "        return img.view(-1, 1, 28, 28)\n",
    "\n",
    "# Define the Discriminator\n",
    "class Discriminator(nn.Module):\n",
    "    def __init__(self):\n",
    "        super(Discriminator, self).__init__()\n",
    "        self.model = nn.Sequential(\n",
    "            nn.Linear(784, 512),\n",
    "            nn.LeakyReLU(0.2),\n",
    "            nn.Linear(512, 256),\n",
    "            nn.LeakyReLU(0.2),\n",
    "            nn.Linear(256, 1),\n",
    "            nn.Sigmoid()\n",
    "        )\n",
    "\n",
    "    def forward(self, img):\n",
    "        img_flat = img.view(img.size(0), -1)\n",
    "        validity = self.model(img_flat)\n",
    "        return validity\n",
    "\n",
    "# Initialize models and optimizers\n",
    "generator = Generator()\n",
    "discriminator = Discriminator()\n",
    "adversarial_loss = nn.BCELoss()\n",
    "optimizer_G = optim.Adam(generator.parameters(), lr=lr, betas=(0.5, 0.999))\n",
    "optimizer_D = optim.Adam(discriminator.parameters(), lr=lr, betas=(0.5, 0.999))\n",
    "\n",
    "# Track losses\n",
    "history = {'disc-loss': [], 'gen-loss': []}\n",
    "\n",
    "# Training\n",
    "for epoch in range(epochs):\n",
    "    dis_losses = []\n",
    "    gen_losses = []\n",
    "    for i, (imgs, _) in enumerate(data_loader):\n",
    "        real_imgs = imgs\n",
    "        batch_size = real_imgs.size(0)\n",
    "\n",
    "        # Prepare labels with label smoothing\n",
    "        real_labels = torch.full((batch_size, 1), 0.9)  # Smooth real labels to 0.9 instead of 1\n",
    "        fake_labels = torch.zeros(batch_size, 1)\n",
    "\n",
    "        # Train Discriminator\n",
    "        optimizer_D.zero_grad()\n",
    "        z = torch.randn(batch_size, latent_dim)\n",
    "        fake_imgs = generator(z)\n",
    "        real_loss = adversarial_loss(discriminator(real_imgs), real_labels)\n",
    "        fake_loss = adversarial_loss(discriminator(fake_imgs.detach()), fake_labels)\n",
    "        d_loss = real_loss + fake_loss\n",
    "        d_loss.backward()\n",
    "        optimizer_D.step()\n",
    "\n",
    "        # Train Generator\n",
    "        optimizer_G.zero_grad()\n",
    "        z = torch.randn(batch_size, latent_dim)\n",
    "        fake_imgs = generator(z)\n",
    "        gen_loss = adversarial_loss(discriminator(fake_imgs), real_labels)  # Label as real to \"fool\" discriminator\n",
    "        gen_loss.backward()\n",
    "        optimizer_G.step()\n",
    "\n",
    "        # Save losses\n",
    "        dis_losses.append(d_loss.item())\n",
    "        gen_losses.append(gen_loss.item())\n",
    "\n",
    "    print(f\"Epoch {epoch + 1}/{epochs}: disc-loss = {np.mean(dis_losses):.4f}, gen-loss = {np.mean(gen_losses):.4f}\")\n",
    "    history['disc-loss'].append(np.mean(dis_losses))\n",
    "    history['gen-loss'].append(np.mean(gen_losses))\n",
    "\n",
    "# Plot losses\n",
    "plt.figure(figsize=(12, 6))\n",
    "plt.subplot(1, 2, 1)\n",
    "plt.plot(history['disc-loss'], label=\"Discriminator Loss\", color='blue')\n",
    "plt.xlabel('Epoch')\n",
    "plt.ylabel('Loss')\n",
    "plt.title('Discriminator Loss')\n",
    "plt.legend()\n",
    "\n",
    "plt.subplot(1, 2, 2)\n",
    "plt.plot(history['gen-loss'], label=\"Generator Loss\", color='red')\n",
    "plt.xlabel('Epoch')\n",
    "plt.ylabel('Loss')\n",
    "plt.title('Generator Loss')\n",
    "plt.legend()\n",
    "plt.show()\n"
   ]
  }
 ],
 "metadata": {
  "kaggle": {
   "accelerator": "gpu",
   "dataSources": [],
   "dockerImageVersionId": 30787,
   "isGpuEnabled": true,
   "isInternetEnabled": true,
   "language": "python",
   "sourceType": "notebook"
  },
  "kernelspec": {
   "display_name": "Python 3 (ipykernel)",
   "language": "python",
   "name": "python3"
  },
  "language_info": {
   "codemirror_mode": {
    "name": "ipython",
    "version": 3
   },
   "file_extension": ".py",
   "mimetype": "text/x-python",
   "name": "python",
   "nbconvert_exporter": "python",
   "pygments_lexer": "ipython3",
   "version": "3.12.4"
  },
  "widgets": {
   "application/vnd.jupyter.widget-state+json": {
    "state": {},
    "version_major": 2,
    "version_minor": 0
   }
  }
 },
 "nbformat": 4,
 "nbformat_minor": 4
}
